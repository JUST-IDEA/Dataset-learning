{
 "cells": [
  {
   "cell_type": "code",
   "execution_count": 1,
   "id": "undefined-baptist",
   "metadata": {},
   "outputs": [],
   "source": [
    "# importing libraries\n",
    "import pandas as pd\n",
    "\n",
    "# display floats up to two decimals\n",
    "pd.set_option('display.float_format', lambda x: '%.2f' % x)\n",
    "\n",
    "# Set up matplotlib to work interactively.\n",
    "%matplotlib inline"
   ]
  },
  {
   "cell_type": "markdown",
   "id": "working-valuation",
   "metadata": {},
   "source": [
    "Printing verions of Python modules and packages with **watermark** - the IPython magic extension."
   ]
  },
  {
   "cell_type": "code",
   "execution_count": 2,
   "id": "charming-stuart",
   "metadata": {},
   "outputs": [],
   "source": [
    "%load_ext watermark"
   ]
  },
  {
   "cell_type": "code",
   "execution_count": 3,
   "id": "necessary-syria",
   "metadata": {},
   "outputs": [
    {
     "name": "stdout",
     "output_type": "stream",
     "text": [
      "CPython 3.7.1\n",
      "IPython 7.20.0\n",
      "\n",
      "numpy 1.19.2\n",
      "pandas 1.2.1\n",
      "geopandas 0.8.1\n",
      "matplotlib.pyplot 3.3.2\n",
      "json 2.0.9\n",
      "requests 2.25.1\n",
      "sodapy 2.0.0\n"
     ]
    }
   ],
   "source": [
    "%watermark -v -p numpy,pandas,geopandas,matplotlib.pyplot,json,requests,sodapy"
   ]
  },
  {
   "cell_type": "code",
   "execution_count": 4,
   "id": "becoming-harris",
   "metadata": {},
   "outputs": [],
   "source": [
    "# reading in data as a url from NYC Open Data\n",
    "url = 'https://data.cityofnewyork.us/api/views/nabw-vbue/rows.csv?accessType=DOWNLOAD'\n",
    "\n",
    "# saving data as a pandas dataframe named 'building_footprints_csv'\n",
    "building_footprints_csv = pd.read_csv(url)"
   ]
  },
  {
   "cell_type": "code",
   "execution_count": 5,
   "id": "likely-progress",
   "metadata": {},
   "outputs": [
    {
     "data": {
      "text/html": [
       "<div>\n",
       "<style scoped>\n",
       "    .dataframe tbody tr th:only-of-type {\n",
       "        vertical-align: middle;\n",
       "    }\n",
       "\n",
       "    .dataframe tbody tr th {\n",
       "        vertical-align: top;\n",
       "    }\n",
       "\n",
       "    .dataframe thead th {\n",
       "        text-align: right;\n",
       "    }\n",
       "</style>\n",
       "<table border=\"1\" class=\"dataframe\">\n",
       "  <thead>\n",
       "    <tr style=\"text-align: right;\">\n",
       "      <th></th>\n",
       "      <th>BIN</th>\n",
       "      <th>CNSTRCT_YR</th>\n",
       "      <th>NAME</th>\n",
       "      <th>the_geom</th>\n",
       "      <th>LSTMODDATE</th>\n",
       "      <th>LSTSTATYPE</th>\n",
       "      <th>DOITT_ID</th>\n",
       "      <th>HEIGHTROOF</th>\n",
       "      <th>FEAT_CODE</th>\n",
       "      <th>GROUNDELEV</th>\n",
       "      <th>SHAPE_AREA</th>\n",
       "      <th>SHAPE_LEN</th>\n",
       "      <th>BASE_BBL</th>\n",
       "      <th>MPLUTO_BBL</th>\n",
       "      <th>GEOMSOURCE</th>\n",
       "    </tr>\n",
       "  </thead>\n",
       "  <tbody>\n",
       "    <tr>\n",
       "      <th>0</th>\n",
       "      <td>3394646</td>\n",
       "      <td>2009.00</td>\n",
       "      <td>NaN</td>\n",
       "      <td>MULTIPOLYGON (((-73.87129515296562 40.65717370...</td>\n",
       "      <td>08/22/2017 12:00:00 AM +0000</td>\n",
       "      <td>Constructed</td>\n",
       "      <td>1212853</td>\n",
       "      <td>21.61</td>\n",
       "      <td>2100.00</td>\n",
       "      <td>18.00</td>\n",
       "      <td>854.66</td>\n",
       "      <td>125.08</td>\n",
       "      <td>3044520815.00</td>\n",
       "      <td>3044520815.00</td>\n",
       "      <td>Photogramm</td>\n",
       "    </tr>\n",
       "    <tr>\n",
       "      <th>1</th>\n",
       "      <td>4548330</td>\n",
       "      <td>1930.00</td>\n",
       "      <td>NaN</td>\n",
       "      <td>MULTIPOLYGON (((-73.87670970144625 40.71425234...</td>\n",
       "      <td>08/17/2017 12:00:00 AM +0000</td>\n",
       "      <td>Constructed</td>\n",
       "      <td>1226227</td>\n",
       "      <td>10.36</td>\n",
       "      <td>5110.00</td>\n",
       "      <td>122.00</td>\n",
       "      <td>217.59</td>\n",
       "      <td>60.23</td>\n",
       "      <td>4030640041.00</td>\n",
       "      <td>4030640041.00</td>\n",
       "      <td>Photogramm</td>\n",
       "    </tr>\n",
       "    <tr>\n",
       "      <th>2</th>\n",
       "      <td>4460479</td>\n",
       "      <td>1960.00</td>\n",
       "      <td>NaN</td>\n",
       "      <td>MULTIPOLYGON (((-73.85195485799383 40.66235471...</td>\n",
       "      <td>08/22/2017 12:00:00 AM +0000</td>\n",
       "      <td>Constructed</td>\n",
       "      <td>581946</td>\n",
       "      <td>29.81</td>\n",
       "      <td>2100.00</td>\n",
       "      <td>10.00</td>\n",
       "      <td>946.43</td>\n",
       "      <td>123.14</td>\n",
       "      <td>4139430001.00</td>\n",
       "      <td>4139430001.00</td>\n",
       "      <td>Photogramm</td>\n",
       "    </tr>\n",
       "    <tr>\n",
       "      <th>3</th>\n",
       "      <td>3355684</td>\n",
       "      <td>1920.00</td>\n",
       "      <td>NaN</td>\n",
       "      <td>MULTIPOLYGON (((-73.94029215265738 40.64108287...</td>\n",
       "      <td>08/17/2017 12:00:00 AM +0000</td>\n",
       "      <td>Constructed</td>\n",
       "      <td>858061</td>\n",
       "      <td>11.20</td>\n",
       "      <td>5110.00</td>\n",
       "      <td>32.00</td>\n",
       "      <td>248.68</td>\n",
       "      <td>63.94</td>\n",
       "      <td>3049720006.00</td>\n",
       "      <td>3049720006.00</td>\n",
       "      <td>Photogramm</td>\n",
       "    </tr>\n",
       "    <tr>\n",
       "      <th>4</th>\n",
       "      <td>3131737</td>\n",
       "      <td>1915.00</td>\n",
       "      <td>NaN</td>\n",
       "      <td>MULTIPOLYGON (((-73.98998983552244 40.62383804...</td>\n",
       "      <td>08/22/2017 12:00:00 AM +0000</td>\n",
       "      <td>Constructed</td>\n",
       "      <td>568078</td>\n",
       "      <td>24.98</td>\n",
       "      <td>2100.00</td>\n",
       "      <td>44.00</td>\n",
       "      <td>1163.23</td>\n",
       "      <td>165.61</td>\n",
       "      <td>3055100055.00</td>\n",
       "      <td>3055100055.00</td>\n",
       "      <td>Photogramm</td>\n",
       "    </tr>\n",
       "  </tbody>\n",
       "</table>\n",
       "</div>"
      ],
      "text/plain": [
       "       BIN  CNSTRCT_YR NAME  \\\n",
       "0  3394646     2009.00  NaN   \n",
       "1  4548330     1930.00  NaN   \n",
       "2  4460479     1960.00  NaN   \n",
       "3  3355684     1920.00  NaN   \n",
       "4  3131737     1915.00  NaN   \n",
       "\n",
       "                                            the_geom  \\\n",
       "0  MULTIPOLYGON (((-73.87129515296562 40.65717370...   \n",
       "1  MULTIPOLYGON (((-73.87670970144625 40.71425234...   \n",
       "2  MULTIPOLYGON (((-73.85195485799383 40.66235471...   \n",
       "3  MULTIPOLYGON (((-73.94029215265738 40.64108287...   \n",
       "4  MULTIPOLYGON (((-73.98998983552244 40.62383804...   \n",
       "\n",
       "                     LSTMODDATE   LSTSTATYPE  DOITT_ID  HEIGHTROOF  FEAT_CODE  \\\n",
       "0  08/22/2017 12:00:00 AM +0000  Constructed   1212853       21.61    2100.00   \n",
       "1  08/17/2017 12:00:00 AM +0000  Constructed   1226227       10.36    5110.00   \n",
       "2  08/22/2017 12:00:00 AM +0000  Constructed    581946       29.81    2100.00   \n",
       "3  08/17/2017 12:00:00 AM +0000  Constructed    858061       11.20    5110.00   \n",
       "4  08/22/2017 12:00:00 AM +0000  Constructed    568078       24.98    2100.00   \n",
       "\n",
       "   GROUNDELEV  SHAPE_AREA  SHAPE_LEN      BASE_BBL    MPLUTO_BBL  GEOMSOURCE  \n",
       "0       18.00      854.66     125.08 3044520815.00 3044520815.00  Photogramm  \n",
       "1      122.00      217.59      60.23 4030640041.00 4030640041.00  Photogramm  \n",
       "2       10.00      946.43     123.14 4139430001.00 4139430001.00  Photogramm  \n",
       "3       32.00      248.68      63.94 3049720006.00 3049720006.00  Photogramm  \n",
       "4       44.00     1163.23     165.61 3055100055.00 3055100055.00  Photogramm  "
      ]
     },
     "execution_count": 5,
     "metadata": {},
     "output_type": "execute_result"
    }
   ],
   "source": [
    "# previewing the first five rows \n",
    "building_footprints_csv.head()"
   ]
  },
  {
   "cell_type": "code",
   "execution_count": 6,
   "id": "rental-separate",
   "metadata": {},
   "outputs": [
    {
     "data": {
      "text/plain": [
       "(1084829, 15)"
      ]
     },
     "execution_count": 6,
     "metadata": {},
     "output_type": "execute_result"
    }
   ],
   "source": [
    "# printing the dimentions (i.e. rows, columns) of the data\n",
    "building_footprints_csv.shape"
   ]
  },
  {
   "cell_type": "code",
   "execution_count": 7,
   "id": "numeric-video",
   "metadata": {},
   "outputs": [
    {
     "name": "stdout",
     "output_type": "stream",
     "text": [
      "This dataset has 1,084,829 rows and 15 columns.\n"
     ]
    }
   ],
   "source": [
    "rows = f'{building_footprints_csv.shape[0]:,}'\n",
    "columns = building_footprints_csv.shape[1]\n",
    "\n",
    "print('This dataset has {} rows and {} columns.'.format(rows, columns))"
   ]
  },
  {
   "cell_type": "markdown",
   "id": "olympic-inquiry",
   "metadata": {},
   "source": [
    "# 3. Data Inspection"
   ]
  },
  {
   "cell_type": "markdown",
   "id": "intermediate-temple",
   "metadata": {},
   "source": [
    "## 3.1 Previewing Data"
   ]
  },
  {
   "cell_type": "code",
   "execution_count": 8,
   "id": "distant-exception",
   "metadata": {},
   "outputs": [
    {
     "data": {
      "text/html": [
       "<div>\n",
       "<style scoped>\n",
       "    .dataframe tbody tr th:only-of-type {\n",
       "        vertical-align: middle;\n",
       "    }\n",
       "\n",
       "    .dataframe tbody tr th {\n",
       "        vertical-align: top;\n",
       "    }\n",
       "\n",
       "    .dataframe thead th {\n",
       "        text-align: right;\n",
       "    }\n",
       "</style>\n",
       "<table border=\"1\" class=\"dataframe\">\n",
       "  <thead>\n",
       "    <tr style=\"text-align: right;\">\n",
       "      <th></th>\n",
       "      <th>BIN</th>\n",
       "      <th>CNSTRCT_YR</th>\n",
       "      <th>NAME</th>\n",
       "      <th>the_geom</th>\n",
       "      <th>LSTMODDATE</th>\n",
       "      <th>LSTSTATYPE</th>\n",
       "      <th>DOITT_ID</th>\n",
       "      <th>HEIGHTROOF</th>\n",
       "      <th>FEAT_CODE</th>\n",
       "      <th>GROUNDELEV</th>\n",
       "      <th>SHAPE_AREA</th>\n",
       "      <th>SHAPE_LEN</th>\n",
       "      <th>BASE_BBL</th>\n",
       "      <th>MPLUTO_BBL</th>\n",
       "      <th>GEOMSOURCE</th>\n",
       "    </tr>\n",
       "  </thead>\n",
       "  <tbody>\n",
       "    <tr>\n",
       "      <th>0</th>\n",
       "      <td>3394646</td>\n",
       "      <td>2009.00</td>\n",
       "      <td>NaN</td>\n",
       "      <td>MULTIPOLYGON (((-73.87129515296562 40.65717370...</td>\n",
       "      <td>08/22/2017 12:00:00 AM +0000</td>\n",
       "      <td>Constructed</td>\n",
       "      <td>1212853</td>\n",
       "      <td>21.61</td>\n",
       "      <td>2100.00</td>\n",
       "      <td>18.00</td>\n",
       "      <td>854.66</td>\n",
       "      <td>125.08</td>\n",
       "      <td>3044520815.00</td>\n",
       "      <td>3044520815.00</td>\n",
       "      <td>Photogramm</td>\n",
       "    </tr>\n",
       "    <tr>\n",
       "      <th>1</th>\n",
       "      <td>4548330</td>\n",
       "      <td>1930.00</td>\n",
       "      <td>NaN</td>\n",
       "      <td>MULTIPOLYGON (((-73.87670970144625 40.71425234...</td>\n",
       "      <td>08/17/2017 12:00:00 AM +0000</td>\n",
       "      <td>Constructed</td>\n",
       "      <td>1226227</td>\n",
       "      <td>10.36</td>\n",
       "      <td>5110.00</td>\n",
       "      <td>122.00</td>\n",
       "      <td>217.59</td>\n",
       "      <td>60.23</td>\n",
       "      <td>4030640041.00</td>\n",
       "      <td>4030640041.00</td>\n",
       "      <td>Photogramm</td>\n",
       "    </tr>\n",
       "    <tr>\n",
       "      <th>2</th>\n",
       "      <td>4460479</td>\n",
       "      <td>1960.00</td>\n",
       "      <td>NaN</td>\n",
       "      <td>MULTIPOLYGON (((-73.85195485799383 40.66235471...</td>\n",
       "      <td>08/22/2017 12:00:00 AM +0000</td>\n",
       "      <td>Constructed</td>\n",
       "      <td>581946</td>\n",
       "      <td>29.81</td>\n",
       "      <td>2100.00</td>\n",
       "      <td>10.00</td>\n",
       "      <td>946.43</td>\n",
       "      <td>123.14</td>\n",
       "      <td>4139430001.00</td>\n",
       "      <td>4139430001.00</td>\n",
       "      <td>Photogramm</td>\n",
       "    </tr>\n",
       "    <tr>\n",
       "      <th>3</th>\n",
       "      <td>3355684</td>\n",
       "      <td>1920.00</td>\n",
       "      <td>NaN</td>\n",
       "      <td>MULTIPOLYGON (((-73.94029215265738 40.64108287...</td>\n",
       "      <td>08/17/2017 12:00:00 AM +0000</td>\n",
       "      <td>Constructed</td>\n",
       "      <td>858061</td>\n",
       "      <td>11.20</td>\n",
       "      <td>5110.00</td>\n",
       "      <td>32.00</td>\n",
       "      <td>248.68</td>\n",
       "      <td>63.94</td>\n",
       "      <td>3049720006.00</td>\n",
       "      <td>3049720006.00</td>\n",
       "      <td>Photogramm</td>\n",
       "    </tr>\n",
       "    <tr>\n",
       "      <th>4</th>\n",
       "      <td>3131737</td>\n",
       "      <td>1915.00</td>\n",
       "      <td>NaN</td>\n",
       "      <td>MULTIPOLYGON (((-73.98998983552244 40.62383804...</td>\n",
       "      <td>08/22/2017 12:00:00 AM +0000</td>\n",
       "      <td>Constructed</td>\n",
       "      <td>568078</td>\n",
       "      <td>24.98</td>\n",
       "      <td>2100.00</td>\n",
       "      <td>44.00</td>\n",
       "      <td>1163.23</td>\n",
       "      <td>165.61</td>\n",
       "      <td>3055100055.00</td>\n",
       "      <td>3055100055.00</td>\n",
       "      <td>Photogramm</td>\n",
       "    </tr>\n",
       "  </tbody>\n",
       "</table>\n",
       "</div>"
      ],
      "text/plain": [
       "       BIN  CNSTRCT_YR NAME  \\\n",
       "0  3394646     2009.00  NaN   \n",
       "1  4548330     1930.00  NaN   \n",
       "2  4460479     1960.00  NaN   \n",
       "3  3355684     1920.00  NaN   \n",
       "4  3131737     1915.00  NaN   \n",
       "\n",
       "                                            the_geom  \\\n",
       "0  MULTIPOLYGON (((-73.87129515296562 40.65717370...   \n",
       "1  MULTIPOLYGON (((-73.87670970144625 40.71425234...   \n",
       "2  MULTIPOLYGON (((-73.85195485799383 40.66235471...   \n",
       "3  MULTIPOLYGON (((-73.94029215265738 40.64108287...   \n",
       "4  MULTIPOLYGON (((-73.98998983552244 40.62383804...   \n",
       "\n",
       "                     LSTMODDATE   LSTSTATYPE  DOITT_ID  HEIGHTROOF  FEAT_CODE  \\\n",
       "0  08/22/2017 12:00:00 AM +0000  Constructed   1212853       21.61    2100.00   \n",
       "1  08/17/2017 12:00:00 AM +0000  Constructed   1226227       10.36    5110.00   \n",
       "2  08/22/2017 12:00:00 AM +0000  Constructed    581946       29.81    2100.00   \n",
       "3  08/17/2017 12:00:00 AM +0000  Constructed    858061       11.20    5110.00   \n",
       "4  08/22/2017 12:00:00 AM +0000  Constructed    568078       24.98    2100.00   \n",
       "\n",
       "   GROUNDELEV  SHAPE_AREA  SHAPE_LEN      BASE_BBL    MPLUTO_BBL  GEOMSOURCE  \n",
       "0       18.00      854.66     125.08 3044520815.00 3044520815.00  Photogramm  \n",
       "1      122.00      217.59      60.23 4030640041.00 4030640041.00  Photogramm  \n",
       "2       10.00      946.43     123.14 4139430001.00 4139430001.00  Photogramm  \n",
       "3       32.00      248.68      63.94 3049720006.00 3049720006.00  Photogramm  \n",
       "4       44.00     1163.23     165.61 3055100055.00 3055100055.00  Photogramm  "
      ]
     },
     "execution_count": 8,
     "metadata": {},
     "output_type": "execute_result"
    }
   ],
   "source": [
    "# previewing the first five rows of our dataframe\n",
    "building_footprints_csv.head()"
   ]
  },
  {
   "cell_type": "code",
   "execution_count": 9,
   "id": "useful-scientist",
   "metadata": {},
   "outputs": [
    {
     "data": {
      "text/html": [
       "<div>\n",
       "<style scoped>\n",
       "    .dataframe tbody tr th:only-of-type {\n",
       "        vertical-align: middle;\n",
       "    }\n",
       "\n",
       "    .dataframe tbody tr th {\n",
       "        vertical-align: top;\n",
       "    }\n",
       "\n",
       "    .dataframe thead th {\n",
       "        text-align: right;\n",
       "    }\n",
       "</style>\n",
       "<table border=\"1\" class=\"dataframe\">\n",
       "  <thead>\n",
       "    <tr style=\"text-align: right;\">\n",
       "      <th></th>\n",
       "      <th>BIN</th>\n",
       "      <th>CNSTRCT_YR</th>\n",
       "      <th>NAME</th>\n",
       "      <th>the_geom</th>\n",
       "      <th>LSTMODDATE</th>\n",
       "      <th>LSTSTATYPE</th>\n",
       "      <th>DOITT_ID</th>\n",
       "      <th>HEIGHTROOF</th>\n",
       "      <th>FEAT_CODE</th>\n",
       "      <th>GROUNDELEV</th>\n",
       "      <th>SHAPE_AREA</th>\n",
       "      <th>SHAPE_LEN</th>\n",
       "      <th>BASE_BBL</th>\n",
       "      <th>MPLUTO_BBL</th>\n",
       "      <th>GEOMSOURCE</th>\n",
       "    </tr>\n",
       "  </thead>\n",
       "  <tbody>\n",
       "    <tr>\n",
       "      <th>1084824</th>\n",
       "      <td>4620621</td>\n",
       "      <td>NaN</td>\n",
       "      <td>NaN</td>\n",
       "      <td>MULTIPOLYGON (((-73.86530991909444 40.76775931...</td>\n",
       "      <td>02/19/2021 12:00:00 AM +0000</td>\n",
       "      <td>Constructed</td>\n",
       "      <td>1294016</td>\n",
       "      <td>15.00</td>\n",
       "      <td>1001.00</td>\n",
       "      <td>11.00</td>\n",
       "      <td>2162.32</td>\n",
       "      <td>230.28</td>\n",
       "      <td>4200119999.00</td>\n",
       "      <td>4200119999.00</td>\n",
       "      <td>Other (Man</td>\n",
       "    </tr>\n",
       "    <tr>\n",
       "      <th>1084825</th>\n",
       "      <td>4461626</td>\n",
       "      <td>NaN</td>\n",
       "      <td>NaN</td>\n",
       "      <td>MULTIPOLYGON (((-73.8432731216008 40.734725012...</td>\n",
       "      <td>02/19/2021 12:00:00 AM +0000</td>\n",
       "      <td>Constructed</td>\n",
       "      <td>1294020</td>\n",
       "      <td>10.00</td>\n",
       "      <td>2100.00</td>\n",
       "      <td>5.00</td>\n",
       "      <td>152.10</td>\n",
       "      <td>50.33</td>\n",
       "      <td>4022090010.00</td>\n",
       "      <td>4022090010.00</td>\n",
       "      <td>Other (Man</td>\n",
       "    </tr>\n",
       "    <tr>\n",
       "      <th>1084826</th>\n",
       "      <td>4556446</td>\n",
       "      <td>2018.00</td>\n",
       "      <td>FMCP-Olmsted Center-Vaux Hall</td>\n",
       "      <td>MULTIPOLYGON (((-73.84959448601474 40.75067952...</td>\n",
       "      <td>02/19/2021 12:00:00 AM +0000</td>\n",
       "      <td>Constructed</td>\n",
       "      <td>1293514</td>\n",
       "      <td>NaN</td>\n",
       "      <td>2100.00</td>\n",
       "      <td>7.00</td>\n",
       "      <td>4009.28</td>\n",
       "      <td>322.57</td>\n",
       "      <td>4020180500.00</td>\n",
       "      <td>NaN</td>\n",
       "      <td>Other (Man</td>\n",
       "    </tr>\n",
       "    <tr>\n",
       "      <th>1084827</th>\n",
       "      <td>3428938</td>\n",
       "      <td>2020.00</td>\n",
       "      <td>NaN</td>\n",
       "      <td>MULTIPOLYGON (((-73.95933546059824 40.73635207...</td>\n",
       "      <td>02/12/2021 12:00:00 AM +0000</td>\n",
       "      <td>Initialization</td>\n",
       "      <td>1281919</td>\n",
       "      <td>400.00</td>\n",
       "      <td>2100.00</td>\n",
       "      <td>10.00</td>\n",
       "      <td>25214.83</td>\n",
       "      <td>613.90</td>\n",
       "      <td>3024720050.00</td>\n",
       "      <td>3024720050.00</td>\n",
       "      <td>Other (Man</td>\n",
       "    </tr>\n",
       "    <tr>\n",
       "      <th>1084828</th>\n",
       "      <td>4001778</td>\n",
       "      <td>2016.00</td>\n",
       "      <td>NaN</td>\n",
       "      <td>MULTIPOLYGON (((-73.92115035159283 40.74643459...</td>\n",
       "      <td>02/12/2021 12:00:00 AM +0000</td>\n",
       "      <td>Constructed</td>\n",
       "      <td>1268370</td>\n",
       "      <td>88.52</td>\n",
       "      <td>2100.00</td>\n",
       "      <td>76.00</td>\n",
       "      <td>4240.48</td>\n",
       "      <td>305.80</td>\n",
       "      <td>4001590028.00</td>\n",
       "      <td>4001590028.00</td>\n",
       "      <td>Other (Man</td>\n",
       "    </tr>\n",
       "  </tbody>\n",
       "</table>\n",
       "</div>"
      ],
      "text/plain": [
       "             BIN  CNSTRCT_YR                           NAME  \\\n",
       "1084824  4620621         NaN                            NaN   \n",
       "1084825  4461626         NaN                            NaN   \n",
       "1084826  4556446     2018.00  FMCP-Olmsted Center-Vaux Hall   \n",
       "1084827  3428938     2020.00                            NaN   \n",
       "1084828  4001778     2016.00                            NaN   \n",
       "\n",
       "                                                  the_geom  \\\n",
       "1084824  MULTIPOLYGON (((-73.86530991909444 40.76775931...   \n",
       "1084825  MULTIPOLYGON (((-73.8432731216008 40.734725012...   \n",
       "1084826  MULTIPOLYGON (((-73.84959448601474 40.75067952...   \n",
       "1084827  MULTIPOLYGON (((-73.95933546059824 40.73635207...   \n",
       "1084828  MULTIPOLYGON (((-73.92115035159283 40.74643459...   \n",
       "\n",
       "                           LSTMODDATE      LSTSTATYPE  DOITT_ID  HEIGHTROOF  \\\n",
       "1084824  02/19/2021 12:00:00 AM +0000     Constructed   1294016       15.00   \n",
       "1084825  02/19/2021 12:00:00 AM +0000     Constructed   1294020       10.00   \n",
       "1084826  02/19/2021 12:00:00 AM +0000     Constructed   1293514         NaN   \n",
       "1084827  02/12/2021 12:00:00 AM +0000  Initialization   1281919      400.00   \n",
       "1084828  02/12/2021 12:00:00 AM +0000     Constructed   1268370       88.52   \n",
       "\n",
       "         FEAT_CODE  GROUNDELEV  SHAPE_AREA  SHAPE_LEN      BASE_BBL  \\\n",
       "1084824    1001.00       11.00     2162.32     230.28 4200119999.00   \n",
       "1084825    2100.00        5.00      152.10      50.33 4022090010.00   \n",
       "1084826    2100.00        7.00     4009.28     322.57 4020180500.00   \n",
       "1084827    2100.00       10.00    25214.83     613.90 3024720050.00   \n",
       "1084828    2100.00       76.00     4240.48     305.80 4001590028.00   \n",
       "\n",
       "           MPLUTO_BBL  GEOMSOURCE  \n",
       "1084824 4200119999.00  Other (Man  \n",
       "1084825 4022090010.00  Other (Man  \n",
       "1084826           NaN  Other (Man  \n",
       "1084827 3024720050.00  Other (Man  \n",
       "1084828 4001590028.00  Other (Man  "
      ]
     },
     "execution_count": 9,
     "metadata": {},
     "output_type": "execute_result"
    }
   ],
   "source": [
    "# previewing the last five rows of our dataframe\n",
    "building_footprints_csv.tail()"
   ]
  },
  {
   "cell_type": "code",
   "execution_count": 10,
   "id": "academic-actor",
   "metadata": {},
   "outputs": [
    {
     "data": {
      "text/plain": [
       "(1084829, 15)"
      ]
     },
     "execution_count": 10,
     "metadata": {},
     "output_type": "execute_result"
    }
   ],
   "source": [
    "# printing the shape or dimensions of our dataframe (i.e. rows, columns)\n",
    "building_footprints_csv.shape"
   ]
  },
  {
   "cell_type": "code",
   "execution_count": 11,
   "id": "prostate-summer",
   "metadata": {},
   "outputs": [
    {
     "data": {
      "text/plain": [
       "pandas.core.frame.DataFrame"
      ]
     },
     "execution_count": 11,
     "metadata": {},
     "output_type": "execute_result"
    }
   ],
   "source": [
    "# the object's type\n",
    "type(building_footprints_csv)"
   ]
  },
  {
   "cell_type": "code",
   "execution_count": 12,
   "id": "modern-senator",
   "metadata": {},
   "outputs": [
    {
     "data": {
      "text/plain": [
       "Index(['BIN', 'CNSTRCT_YR', 'NAME', 'the_geom', 'LSTMODDATE', 'LSTSTATYPE',\n",
       "       'DOITT_ID', 'HEIGHTROOF', 'FEAT_CODE', 'GROUNDELEV', 'SHAPE_AREA',\n",
       "       'SHAPE_LEN', 'BASE_BBL', 'MPLUTO_BBL', 'GEOMSOURCE'],\n",
       "      dtype='object')"
      ]
     },
     "execution_count": 12,
     "metadata": {},
     "output_type": "execute_result"
    }
   ],
   "source": [
    "# printing the columns of our dataframe\n",
    "building_footprints_csv.columns"
   ]
  },
  {
   "cell_type": "code",
   "execution_count": 13,
   "id": "minus-compatibility",
   "metadata": {},
   "outputs": [
    {
     "data": {
      "text/plain": [
       "BIN             int64\n",
       "CNSTRCT_YR    float64\n",
       "NAME           object\n",
       "the_geom       object\n",
       "LSTMODDATE     object\n",
       "LSTSTATYPE     object\n",
       "DOITT_ID        int64\n",
       "HEIGHTROOF    float64\n",
       "FEAT_CODE     float64\n",
       "GROUNDELEV    float64\n",
       "SHAPE_AREA    float64\n",
       "SHAPE_LEN     float64\n",
       "BASE_BBL      float64\n",
       "MPLUTO_BBL    float64\n",
       "GEOMSOURCE     object\n",
       "dtype: object"
      ]
     },
     "execution_count": 13,
     "metadata": {},
     "output_type": "execute_result"
    }
   ],
   "source": [
    "# printing the data types of our columns\n",
    "building_footprints_csv.dtypes"
   ]
  },
  {
   "cell_type": "code",
   "execution_count": 14,
   "id": "saved-glenn",
   "metadata": {},
   "outputs": [
    {
     "name": "stdout",
     "output_type": "stream",
     "text": [
      "<class 'pandas.core.frame.DataFrame'>\n",
      "RangeIndex: 1084829 entries, 0 to 1084828\n",
      "Data columns (total 15 columns):\n",
      " #   Column      Non-Null Count    Dtype  \n",
      "---  ------      --------------    -----  \n",
      " 0   BIN         1084829 non-null  int64  \n",
      " 1   CNSTRCT_YR  1073840 non-null  float64\n",
      " 2   NAME        1882 non-null     object \n",
      " 3   the_geom    1084829 non-null  object \n",
      " 4   LSTMODDATE  1084829 non-null  object \n",
      " 5   LSTSTATYPE  1084637 non-null  object \n",
      " 6   DOITT_ID    1084829 non-null  int64  \n",
      " 7   HEIGHTROOF  1082165 non-null  float64\n",
      " 8   FEAT_CODE   1084820 non-null  float64\n",
      " 9   GROUNDELEV  1084297 non-null  float64\n",
      " 10  SHAPE_AREA  1084829 non-null  float64\n",
      " 11  SHAPE_LEN   1084829 non-null  float64\n",
      " 12  BASE_BBL    1084826 non-null  float64\n",
      " 13  MPLUTO_BBL  1083926 non-null  float64\n",
      " 14  GEOMSOURCE  1084613 non-null  object \n",
      "dtypes: float64(8), int64(2), object(5)\n",
      "memory usage: 124.1+ MB\n"
     ]
    }
   ],
   "source": [
    "# printing the column names, non-null counts, and data types of our columns\n",
    "building_footprints_csv.info()"
   ]
  },
  {
   "cell_type": "code",
   "execution_count": 15,
   "id": "warming-count",
   "metadata": {},
   "outputs": [
    {
     "data": {
      "text/plain": [
       "float64    8\n",
       "object     5\n",
       "int64      2\n",
       "dtype: int64"
      ]
     },
     "execution_count": 15,
     "metadata": {},
     "output_type": "execute_result"
    }
   ],
   "source": [
    "# counts of unique values of our datatypes \n",
    "building_footprints_csv.dtypes.value_counts()"
   ]
  },
  {
   "cell_type": "code",
   "execution_count": 16,
   "id": "affected-gallery",
   "metadata": {},
   "outputs": [
    {
     "data": {
      "text/plain": [
       "True"
      ]
     },
     "execution_count": 16,
     "metadata": {},
     "output_type": "execute_result"
    }
   ],
   "source": [
    "# printing True/False if column is unique on our unique key (DOITT_ID)\n",
    "building_footprints_csv['DOITT_ID'].is_unique"
   ]
  },
  {
   "cell_type": "code",
   "execution_count": 17,
   "id": "legal-dylan",
   "metadata": {},
   "outputs": [
    {
     "data": {
      "text/html": [
       "<div>\n",
       "<style scoped>\n",
       "    .dataframe tbody tr th:only-of-type {\n",
       "        vertical-align: middle;\n",
       "    }\n",
       "\n",
       "    .dataframe tbody tr th {\n",
       "        vertical-align: top;\n",
       "    }\n",
       "\n",
       "    .dataframe thead th {\n",
       "        text-align: right;\n",
       "    }\n",
       "</style>\n",
       "<table border=\"1\" class=\"dataframe\">\n",
       "  <thead>\n",
       "    <tr style=\"text-align: right;\">\n",
       "      <th></th>\n",
       "      <th>BIN</th>\n",
       "      <th>CNSTRCT_YR</th>\n",
       "      <th>DOITT_ID</th>\n",
       "      <th>HEIGHTROOF</th>\n",
       "      <th>FEAT_CODE</th>\n",
       "      <th>GROUNDELEV</th>\n",
       "      <th>SHAPE_AREA</th>\n",
       "      <th>SHAPE_LEN</th>\n",
       "      <th>BASE_BBL</th>\n",
       "      <th>MPLUTO_BBL</th>\n",
       "    </tr>\n",
       "  </thead>\n",
       "  <tbody>\n",
       "    <tr>\n",
       "      <th>count</th>\n",
       "      <td>1084829.00</td>\n",
       "      <td>1073840.00</td>\n",
       "      <td>1084829.00</td>\n",
       "      <td>1082165.00</td>\n",
       "      <td>1084820.00</td>\n",
       "      <td>1084297.00</td>\n",
       "      <td>1084829.00</td>\n",
       "      <td>1084829.00</td>\n",
       "      <td>1084826.00</td>\n",
       "      <td>1083926.00</td>\n",
       "    </tr>\n",
       "    <tr>\n",
       "      <th>mean</th>\n",
       "      <td>3710455.69</td>\n",
       "      <td>1939.14</td>\n",
       "      <td>591371.60</td>\n",
       "      <td>27.56</td>\n",
       "      <td>2698.39</td>\n",
       "      <td>55.10</td>\n",
       "      <td>1597.37</td>\n",
       "      <td>155.34</td>\n",
       "      <td>3562206377.30</td>\n",
       "      <td>3561996937.21</td>\n",
       "    </tr>\n",
       "    <tr>\n",
       "      <th>std</th>\n",
       "      <td>1026703.92</td>\n",
       "      <td>28.94</td>\n",
       "      <td>359590.24</td>\n",
       "      <td>21.34</td>\n",
       "      <td>1202.14</td>\n",
       "      <td>41.51</td>\n",
       "      <td>5600.50</td>\n",
       "      <td>127.18</td>\n",
       "      <td>985973093.34</td>\n",
       "      <td>985947216.98</td>\n",
       "    </tr>\n",
       "    <tr>\n",
       "      <th>min</th>\n",
       "      <td>1000002.00</td>\n",
       "      <td>1.00</td>\n",
       "      <td>1.00</td>\n",
       "      <td>0.00</td>\n",
       "      <td>0.00</td>\n",
       "      <td>-14.00</td>\n",
       "      <td>32.48</td>\n",
       "      <td>23.74</td>\n",
       "      <td>3064269.00</td>\n",
       "      <td>3064269.00</td>\n",
       "    </tr>\n",
       "    <tr>\n",
       "      <th>25%</th>\n",
       "      <td>3128747.00</td>\n",
       "      <td>1920.00</td>\n",
       "      <td>286718.00</td>\n",
       "      <td>18.35</td>\n",
       "      <td>2100.00</td>\n",
       "      <td>25.00</td>\n",
       "      <td>652.26</td>\n",
       "      <td>109.72</td>\n",
       "      <td>3043200053.50</td>\n",
       "      <td>3043200018.25</td>\n",
       "    </tr>\n",
       "    <tr>\n",
       "      <th>50%</th>\n",
       "      <td>4066888.00</td>\n",
       "      <td>1930.00</td>\n",
       "      <td>573610.00</td>\n",
       "      <td>26.08</td>\n",
       "      <td>2100.00</td>\n",
       "      <td>46.00</td>\n",
       "      <td>957.37</td>\n",
       "      <td>137.93</td>\n",
       "      <td>4019310001.00</td>\n",
       "      <td>4019270162.50</td>\n",
       "    </tr>\n",
       "    <tr>\n",
       "      <th>75%</th>\n",
       "      <td>4481878.00</td>\n",
       "      <td>1955.00</td>\n",
       "      <td>862120.00</td>\n",
       "      <td>31.07</td>\n",
       "      <td>2100.00</td>\n",
       "      <td>74.00</td>\n",
       "      <td>1320.56</td>\n",
       "      <td>164.46</td>\n",
       "      <td>4106730023.50</td>\n",
       "      <td>4106690122.00</td>\n",
       "    </tr>\n",
       "    <tr>\n",
       "      <th>max</th>\n",
       "      <td>5799523.00</td>\n",
       "      <td>2021.00</td>\n",
       "      <td>1294020.00</td>\n",
       "      <td>1550.00</td>\n",
       "      <td>5110.00</td>\n",
       "      <td>556.00</td>\n",
       "      <td>1171874.45</td>\n",
       "      <td>20017.29</td>\n",
       "      <td>5999999999.00</td>\n",
       "      <td>5999999999.00</td>\n",
       "    </tr>\n",
       "  </tbody>\n",
       "</table>\n",
       "</div>"
      ],
      "text/plain": [
       "             BIN  CNSTRCT_YR   DOITT_ID  HEIGHTROOF  FEAT_CODE  GROUNDELEV  \\\n",
       "count 1084829.00  1073840.00 1084829.00  1082165.00 1084820.00  1084297.00   \n",
       "mean  3710455.69     1939.14  591371.60       27.56    2698.39       55.10   \n",
       "std   1026703.92       28.94  359590.24       21.34    1202.14       41.51   \n",
       "min   1000002.00        1.00       1.00        0.00       0.00      -14.00   \n",
       "25%   3128747.00     1920.00  286718.00       18.35    2100.00       25.00   \n",
       "50%   4066888.00     1930.00  573610.00       26.08    2100.00       46.00   \n",
       "75%   4481878.00     1955.00  862120.00       31.07    2100.00       74.00   \n",
       "max   5799523.00     2021.00 1294020.00     1550.00    5110.00      556.00   \n",
       "\n",
       "       SHAPE_AREA  SHAPE_LEN      BASE_BBL    MPLUTO_BBL  \n",
       "count  1084829.00 1084829.00    1084826.00    1083926.00  \n",
       "mean      1597.37     155.34 3562206377.30 3561996937.21  \n",
       "std       5600.50     127.18  985973093.34  985947216.98  \n",
       "min         32.48      23.74    3064269.00    3064269.00  \n",
       "25%        652.26     109.72 3043200053.50 3043200018.25  \n",
       "50%        957.37     137.93 4019310001.00 4019270162.50  \n",
       "75%       1320.56     164.46 4106730023.50 4106690122.00  \n",
       "max    1171874.45   20017.29 5999999999.00 5999999999.00  "
      ]
     },
     "execution_count": 17,
     "metadata": {},
     "output_type": "execute_result"
    }
   ],
   "source": [
    "# printing descriptive statistics of our numeric columns in our data\n",
    "building_footprints_csv.describe()"
   ]
  },
  {
   "cell_type": "code",
   "execution_count": 18,
   "id": "german-version",
   "metadata": {},
   "outputs": [
    {
     "data": {
      "text/html": [
       "<div>\n",
       "<style scoped>\n",
       "    .dataframe tbody tr th:only-of-type {\n",
       "        vertical-align: middle;\n",
       "    }\n",
       "\n",
       "    .dataframe tbody tr th {\n",
       "        vertical-align: top;\n",
       "    }\n",
       "\n",
       "    .dataframe thead th {\n",
       "        text-align: right;\n",
       "    }\n",
       "</style>\n",
       "<table border=\"1\" class=\"dataframe\">\n",
       "  <thead>\n",
       "    <tr style=\"text-align: right;\">\n",
       "      <th></th>\n",
       "      <th>NAME</th>\n",
       "      <th>the_geom</th>\n",
       "      <th>LSTMODDATE</th>\n",
       "      <th>LSTSTATYPE</th>\n",
       "      <th>GEOMSOURCE</th>\n",
       "    </tr>\n",
       "  </thead>\n",
       "  <tbody>\n",
       "    <tr>\n",
       "      <th>count</th>\n",
       "      <td>1882</td>\n",
       "      <td>1084829</td>\n",
       "      <td>1084829</td>\n",
       "      <td>1084637</td>\n",
       "      <td>1084613</td>\n",
       "    </tr>\n",
       "    <tr>\n",
       "      <th>unique</th>\n",
       "      <td>1507</td>\n",
       "      <td>1084829</td>\n",
       "      <td>1065</td>\n",
       "      <td>12</td>\n",
       "      <td>3</td>\n",
       "    </tr>\n",
       "    <tr>\n",
       "      <th>top</th>\n",
       "      <td>Adler Place Town Houses</td>\n",
       "      <td>MULTIPOLYGON (((-73.72732491700796 40.68996607...</td>\n",
       "      <td>08/22/2017 12:00:00 AM +0000</td>\n",
       "      <td>Constructed</td>\n",
       "      <td>Photogramm</td>\n",
       "    </tr>\n",
       "    <tr>\n",
       "      <th>freq</th>\n",
       "      <td>52</td>\n",
       "      <td>1</td>\n",
       "      <td>808507</td>\n",
       "      <td>1082888</td>\n",
       "      <td>1019247</td>\n",
       "    </tr>\n",
       "  </tbody>\n",
       "</table>\n",
       "</div>"
      ],
      "text/plain": [
       "                           NAME  \\\n",
       "count                      1882   \n",
       "unique                     1507   \n",
       "top     Adler Place Town Houses   \n",
       "freq                         52   \n",
       "\n",
       "                                                 the_geom  \\\n",
       "count                                             1084829   \n",
       "unique                                            1084829   \n",
       "top     MULTIPOLYGON (((-73.72732491700796 40.68996607...   \n",
       "freq                                                    1   \n",
       "\n",
       "                          LSTMODDATE   LSTSTATYPE  GEOMSOURCE  \n",
       "count                        1084829      1084637     1084613  \n",
       "unique                          1065           12           3  \n",
       "top     08/22/2017 12:00:00 AM +0000  Constructed  Photogramm  \n",
       "freq                          808507      1082888     1019247  "
      ]
     },
     "execution_count": 18,
     "metadata": {},
     "output_type": "execute_result"
    }
   ],
   "source": [
    "building_footprints_csv.describe(include=['O'])"
   ]
  },
  {
   "cell_type": "markdown",
   "id": "adjacent-mobility",
   "metadata": {},
   "source": [
    "## 3.3 Identifying Null/NA Values"
   ]
  },
  {
   "cell_type": "code",
   "execution_count": 19,
   "id": "intermediate-activity",
   "metadata": {},
   "outputs": [
    {
     "data": {
      "text/plain": [
       "BIN           False\n",
       "CNSTRCT_YR     True\n",
       "NAME           True\n",
       "the_geom      False\n",
       "LSTMODDATE    False\n",
       "LSTSTATYPE     True\n",
       "DOITT_ID      False\n",
       "HEIGHTROOF     True\n",
       "FEAT_CODE      True\n",
       "GROUNDELEV     True\n",
       "SHAPE_AREA    False\n",
       "SHAPE_LEN     False\n",
       "BASE_BBL       True\n",
       "MPLUTO_BBL     True\n",
       "GEOMSOURCE     True\n",
       "dtype: bool"
      ]
     },
     "execution_count": 19,
     "metadata": {},
     "output_type": "execute_result"
    }
   ],
   "source": [
    "# return a boolean same-sized object indicating if any of the values are NA\n",
    "building_footprints_csv.isnull().any()"
   ]
  },
  {
   "cell_type": "code",
   "execution_count": 20,
   "id": "modified-endorsement",
   "metadata": {},
   "outputs": [
    {
     "data": {
      "text/plain": [
       "BIN                 0\n",
       "CNSTRCT_YR      10989\n",
       "NAME          1082947\n",
       "the_geom            0\n",
       "LSTMODDATE          0\n",
       "LSTSTATYPE        192\n",
       "DOITT_ID            0\n",
       "HEIGHTROOF       2664\n",
       "FEAT_CODE           9\n",
       "GROUNDELEV        532\n",
       "SHAPE_AREA          0\n",
       "SHAPE_LEN           0\n",
       "BASE_BBL            3\n",
       "MPLUTO_BBL        903\n",
       "GEOMSOURCE        216\n",
       "dtype: int64"
      ]
     },
     "execution_count": 20,
     "metadata": {},
     "output_type": "execute_result"
    }
   ],
   "source": [
    "# printing the total amount of null/na values in our data\n",
    "building_footprints_csv.isnull().sum()"
   ]
  },
  {
   "cell_type": "code",
   "execution_count": 21,
   "id": "extraordinary-python",
   "metadata": {},
   "outputs": [
    {
     "data": {
      "text/plain": [
       "1098455"
      ]
     },
     "execution_count": 21,
     "metadata": {},
     "output_type": "execute_result"
    }
   ],
   "source": [
    "# printing the total amount of null/na values in our data\n",
    "building_footprints_csv.isnull().sum().sum()"
   ]
  },
  {
   "cell_type": "code",
   "execution_count": 22,
   "id": "certain-rally",
   "metadata": {},
   "outputs": [
    {
     "data": {
      "text/plain": [
       "count       15\n",
       "unique       2\n",
       "top       True\n",
       "freq         9\n",
       "dtype: object"
      ]
     },
     "execution_count": 22,
     "metadata": {},
     "output_type": "execute_result"
    }
   ],
   "source": [
    "# return descriptive statistics of boolean indicating if any of the values are NA\n",
    "building_footprints_csv.isnull().any().describe()"
   ]
  },
  {
   "cell_type": "code",
   "execution_count": 23,
   "id": "worst-aging",
   "metadata": {},
   "outputs": [
    {
     "data": {
      "text/html": [
       "<div>\n",
       "<style scoped>\n",
       "    .dataframe tbody tr th:only-of-type {\n",
       "        vertical-align: middle;\n",
       "    }\n",
       "\n",
       "    .dataframe tbody tr th {\n",
       "        vertical-align: top;\n",
       "    }\n",
       "\n",
       "    .dataframe thead th {\n",
       "        text-align: right;\n",
       "    }\n",
       "</style>\n",
       "<table border=\"1\" class=\"dataframe\">\n",
       "  <thead>\n",
       "    <tr style=\"text-align: right;\">\n",
       "      <th></th>\n",
       "      <th>Missing Ratio (%)</th>\n",
       "    </tr>\n",
       "  </thead>\n",
       "  <tbody>\n",
       "    <tr>\n",
       "      <th>BIN</th>\n",
       "      <td>0.00</td>\n",
       "    </tr>\n",
       "    <tr>\n",
       "      <th>the_geom</th>\n",
       "      <td>0.00</td>\n",
       "    </tr>\n",
       "    <tr>\n",
       "      <th>LSTMODDATE</th>\n",
       "      <td>0.00</td>\n",
       "    </tr>\n",
       "    <tr>\n",
       "      <th>DOITT_ID</th>\n",
       "      <td>0.00</td>\n",
       "    </tr>\n",
       "    <tr>\n",
       "      <th>SHAPE_AREA</th>\n",
       "      <td>0.00</td>\n",
       "    </tr>\n",
       "    <tr>\n",
       "      <th>SHAPE_LEN</th>\n",
       "      <td>0.00</td>\n",
       "    </tr>\n",
       "    <tr>\n",
       "      <th>BASE_BBL</th>\n",
       "      <td>0.00</td>\n",
       "    </tr>\n",
       "    <tr>\n",
       "      <th>FEAT_CODE</th>\n",
       "      <td>0.00</td>\n",
       "    </tr>\n",
       "    <tr>\n",
       "      <th>LSTSTATYPE</th>\n",
       "      <td>0.02</td>\n",
       "    </tr>\n",
       "    <tr>\n",
       "      <th>GEOMSOURCE</th>\n",
       "      <td>0.02</td>\n",
       "    </tr>\n",
       "    <tr>\n",
       "      <th>GROUNDELEV</th>\n",
       "      <td>0.05</td>\n",
       "    </tr>\n",
       "    <tr>\n",
       "      <th>MPLUTO_BBL</th>\n",
       "      <td>0.08</td>\n",
       "    </tr>\n",
       "    <tr>\n",
       "      <th>HEIGHTROOF</th>\n",
       "      <td>0.25</td>\n",
       "    </tr>\n",
       "    <tr>\n",
       "      <th>CNSTRCT_YR</th>\n",
       "      <td>1.01</td>\n",
       "    </tr>\n",
       "    <tr>\n",
       "      <th>NAME</th>\n",
       "      <td>99.83</td>\n",
       "    </tr>\n",
       "  </tbody>\n",
       "</table>\n",
       "</div>"
      ],
      "text/plain": [
       "            Missing Ratio (%)\n",
       "BIN                      0.00\n",
       "the_geom                 0.00\n",
       "LSTMODDATE               0.00\n",
       "DOITT_ID                 0.00\n",
       "SHAPE_AREA               0.00\n",
       "SHAPE_LEN                0.00\n",
       "BASE_BBL                 0.00\n",
       "FEAT_CODE                0.00\n",
       "LSTSTATYPE               0.02\n",
       "GEOMSOURCE               0.02\n",
       "GROUNDELEV               0.05\n",
       "MPLUTO_BBL               0.08\n",
       "HEIGHTROOF               0.25\n",
       "CNSTRCT_YR               1.01\n",
       "NAME                    99.83"
      ]
     },
     "execution_count": 23,
     "metadata": {},
     "output_type": "execute_result"
    }
   ],
   "source": [
    "# calculating a percentage of the number of nulls to total number of records of each column\n",
    "missing_data = (building_footprints_csv.isnull().sum() / len(building_footprints_csv)) * 100\n",
    "\n",
    "# creating a dataframe\n",
    "missing_data = pd.DataFrame({'Missing Ratio (%)' :missing_data}) \n",
    "missing_data.sort_values(by='Missing Ratio (%)', ascending=True, inplace=True)\n",
    "missing_data"
   ]
  },
  {
   "cell_type": "markdown",
   "id": "productive-letters",
   "metadata": {},
   "source": [
    "# 4. Data Cleaning & Wrangling"
   ]
  },
  {
   "cell_type": "markdown",
   "id": "honey-contribution",
   "metadata": {},
   "source": [
    "We will be cleaning the **Construction Year** (i.e. CNSTRCT_YR) column, as this is the column we will be using in our analysis."
   ]
  },
  {
   "cell_type": "markdown",
   "id": "correct-tradition",
   "metadata": {},
   "source": [
    "## 4.1 Previewing Column Values"
   ]
  },
  {
   "cell_type": "code",
   "execution_count": 24,
   "id": "comparative-bulgaria",
   "metadata": {},
   "outputs": [
    {
     "data": {
      "text/plain": [
       "pandas.core.series.Series"
      ]
     },
     "execution_count": 24,
     "metadata": {},
     "output_type": "execute_result"
    }
   ],
   "source": [
    "# printing the object's type\n",
    "type(building_footprints_csv['CNSTRCT_YR'])"
   ]
  },
  {
   "cell_type": "code",
   "execution_count": 25,
   "id": "activated-eugene",
   "metadata": {},
   "outputs": [
    {
     "data": {
      "text/plain": [
       "0         2009.00\n",
       "1         1930.00\n",
       "2         1960.00\n",
       "3         1920.00\n",
       "4         1915.00\n",
       "            ...  \n",
       "1084824       NaN\n",
       "1084825       NaN\n",
       "1084826   2018.00\n",
       "1084827   2020.00\n",
       "1084828   2016.00\n",
       "Name: CNSTRCT_YR, Length: 1084829, dtype: float64"
      ]
     },
     "execution_count": 25,
     "metadata": {},
     "output_type": "execute_result"
    }
   ],
   "source": [
    "# returning a series of the 'CNSTRCT_YR' column\n",
    "building_footprints_csv[\"CNSTRCT_YR\"]"
   ]
  },
  {
   "cell_type": "code",
   "execution_count": 26,
   "id": "optional-subject",
   "metadata": {},
   "outputs": [
    {
     "data": {
      "text/html": [
       "<div>\n",
       "<style scoped>\n",
       "    .dataframe tbody tr th:only-of-type {\n",
       "        vertical-align: middle;\n",
       "    }\n",
       "\n",
       "    .dataframe tbody tr th {\n",
       "        vertical-align: top;\n",
       "    }\n",
       "\n",
       "    .dataframe thead th {\n",
       "        text-align: right;\n",
       "    }\n",
       "</style>\n",
       "<table border=\"1\" class=\"dataframe\">\n",
       "  <thead>\n",
       "    <tr style=\"text-align: right;\">\n",
       "      <th></th>\n",
       "      <th>CNSTRCT_YR</th>\n",
       "    </tr>\n",
       "  </thead>\n",
       "  <tbody>\n",
       "    <tr>\n",
       "      <th>0</th>\n",
       "      <td>2009.00</td>\n",
       "    </tr>\n",
       "    <tr>\n",
       "      <th>1</th>\n",
       "      <td>1930.00</td>\n",
       "    </tr>\n",
       "    <tr>\n",
       "      <th>2</th>\n",
       "      <td>1960.00</td>\n",
       "    </tr>\n",
       "    <tr>\n",
       "      <th>3</th>\n",
       "      <td>1920.00</td>\n",
       "    </tr>\n",
       "    <tr>\n",
       "      <th>4</th>\n",
       "      <td>1915.00</td>\n",
       "    </tr>\n",
       "    <tr>\n",
       "      <th>...</th>\n",
       "      <td>...</td>\n",
       "    </tr>\n",
       "    <tr>\n",
       "      <th>1084824</th>\n",
       "      <td>NaN</td>\n",
       "    </tr>\n",
       "    <tr>\n",
       "      <th>1084825</th>\n",
       "      <td>NaN</td>\n",
       "    </tr>\n",
       "    <tr>\n",
       "      <th>1084826</th>\n",
       "      <td>2018.00</td>\n",
       "    </tr>\n",
       "    <tr>\n",
       "      <th>1084827</th>\n",
       "      <td>2020.00</td>\n",
       "    </tr>\n",
       "    <tr>\n",
       "      <th>1084828</th>\n",
       "      <td>2016.00</td>\n",
       "    </tr>\n",
       "  </tbody>\n",
       "</table>\n",
       "<p>1084829 rows × 1 columns</p>\n",
       "</div>"
      ],
      "text/plain": [
       "         CNSTRCT_YR\n",
       "0           2009.00\n",
       "1           1930.00\n",
       "2           1960.00\n",
       "3           1920.00\n",
       "4           1915.00\n",
       "...             ...\n",
       "1084824         NaN\n",
       "1084825         NaN\n",
       "1084826     2018.00\n",
       "1084827     2020.00\n",
       "1084828     2016.00\n",
       "\n",
       "[1084829 rows x 1 columns]"
      ]
     },
     "execution_count": 26,
     "metadata": {},
     "output_type": "execute_result"
    }
   ],
   "source": [
    "# returning a dataframe of the 'CNSTRCT_YR' column\n",
    "building_footprints_csv[[\"CNSTRCT_YR\"]]"
   ]
  },
  {
   "cell_type": "code",
   "execution_count": 27,
   "id": "three-feeding",
   "metadata": {},
   "outputs": [
    {
     "data": {
      "text/html": [
       "<div>\n",
       "<style scoped>\n",
       "    .dataframe tbody tr th:only-of-type {\n",
       "        vertical-align: middle;\n",
       "    }\n",
       "\n",
       "    .dataframe tbody tr th {\n",
       "        vertical-align: top;\n",
       "    }\n",
       "\n",
       "    .dataframe thead th {\n",
       "        text-align: right;\n",
       "    }\n",
       "</style>\n",
       "<table border=\"1\" class=\"dataframe\">\n",
       "  <thead>\n",
       "    <tr style=\"text-align: right;\">\n",
       "      <th></th>\n",
       "      <th>CNSTRCT_YR</th>\n",
       "    </tr>\n",
       "  </thead>\n",
       "  <tbody>\n",
       "    <tr>\n",
       "      <th>count</th>\n",
       "      <td>1073840.00</td>\n",
       "    </tr>\n",
       "    <tr>\n",
       "      <th>mean</th>\n",
       "      <td>1939.14</td>\n",
       "    </tr>\n",
       "    <tr>\n",
       "      <th>std</th>\n",
       "      <td>28.94</td>\n",
       "    </tr>\n",
       "    <tr>\n",
       "      <th>min</th>\n",
       "      <td>1.00</td>\n",
       "    </tr>\n",
       "    <tr>\n",
       "      <th>25%</th>\n",
       "      <td>1920.00</td>\n",
       "    </tr>\n",
       "    <tr>\n",
       "      <th>50%</th>\n",
       "      <td>1930.00</td>\n",
       "    </tr>\n",
       "    <tr>\n",
       "      <th>75%</th>\n",
       "      <td>1955.00</td>\n",
       "    </tr>\n",
       "    <tr>\n",
       "      <th>max</th>\n",
       "      <td>2021.00</td>\n",
       "    </tr>\n",
       "  </tbody>\n",
       "</table>\n",
       "</div>"
      ],
      "text/plain": [
       "       CNSTRCT_YR\n",
       "count  1073840.00\n",
       "mean      1939.14\n",
       "std         28.94\n",
       "min          1.00\n",
       "25%       1920.00\n",
       "50%       1930.00\n",
       "75%       1955.00\n",
       "max       2021.00"
      ]
     },
     "execution_count": 27,
     "metadata": {},
     "output_type": "execute_result"
    }
   ],
   "source": [
    "# returning a dataframe of the 'CNSTRCT_YR' column\n",
    "building_footprints_csv[[\"CNSTRCT_YR\"]].describe()"
   ]
  },
  {
   "cell_type": "code",
   "execution_count": 28,
   "id": "overall-norman",
   "metadata": {},
   "outputs": [
    {
     "data": {
      "text/plain": [
       "array([[<AxesSubplot:title={'center':'CNSTRCT_YR'}>]], dtype=object)"
      ]
     },
     "execution_count": 28,
     "metadata": {},
     "output_type": "execute_result"
    },
    {
     "data": {
      "image/png": "[encoded data removed]",
      "text/plain": [
       "<Figure size 432x288 with 1 Axes>"
      ]
     },
     "metadata": {
      "needs_background": "light"
     },
     "output_type": "display_data"
    }
   ],
   "source": [
    "# returning a dataframe of the 'CNSTRCT_YR' column\n",
    "building_footprints_csv[[\"CNSTRCT_YR\"]].hist()"
   ]
  },
  {
   "cell_type": "code",
   "execution_count": 29,
   "id": "permanent-surgeon",
   "metadata": {},
   "outputs": [
    {
     "data": {
      "text/plain": [
       "<AxesSubplot:>"
      ]
     },
     "execution_count": 29,
     "metadata": {},
     "output_type": "execute_result"
    },
    {
     "data": {
      "image/png": "[encoded data removed]",
      "text/plain": [
       "<Figure size 432x288 with 1 Axes>"
      ]
     },
     "metadata": {
      "needs_background": "light"
     },
     "output_type": "display_data"
    }
   ],
   "source": [
    "# returning a dataframe of the 'CNSTRCT_YR' column\n",
    "building_footprints_csv[[\"CNSTRCT_YR\"]].plot.box()"
   ]
  },
  {
   "cell_type": "code",
   "execution_count": 30,
   "id": "laughing-frank",
   "metadata": {},
   "outputs": [
    {
     "data": {
      "text/html": [
       "<div>\n",
       "<style scoped>\n",
       "    .dataframe tbody tr th:only-of-type {\n",
       "        vertical-align: middle;\n",
       "    }\n",
       "\n",
       "    .dataframe tbody tr th {\n",
       "        vertical-align: top;\n",
       "    }\n",
       "\n",
       "    .dataframe thead th {\n",
       "        text-align: right;\n",
       "    }\n",
       "</style>\n",
       "<table border=\"1\" class=\"dataframe\">\n",
       "  <thead>\n",
       "    <tr style=\"text-align: right;\">\n",
       "      <th></th>\n",
       "      <th>BIN</th>\n",
       "      <th>CNSTRCT_YR</th>\n",
       "      <th>DOITT_ID</th>\n",
       "      <th>HEIGHTROOF</th>\n",
       "      <th>FEAT_CODE</th>\n",
       "      <th>GROUNDELEV</th>\n",
       "      <th>SHAPE_AREA</th>\n",
       "      <th>SHAPE_LEN</th>\n",
       "      <th>BASE_BBL</th>\n",
       "      <th>MPLUTO_BBL</th>\n",
       "    </tr>\n",
       "  </thead>\n",
       "  <tbody>\n",
       "    <tr>\n",
       "      <th>count</th>\n",
       "      <td>42704.00</td>\n",
       "      <td>42704.00</td>\n",
       "      <td>42704.00</td>\n",
       "      <td>42698.00</td>\n",
       "      <td>42704.00</td>\n",
       "      <td>42703.00</td>\n",
       "      <td>42704.00</td>\n",
       "      <td>42704.00</td>\n",
       "      <td>42704.00</td>\n",
       "      <td>42704.00</td>\n",
       "    </tr>\n",
       "    <tr>\n",
       "      <th>mean</th>\n",
       "      <td>2730942.22</td>\n",
       "      <td>1888.16</td>\n",
       "      <td>461704.84</td>\n",
       "      <td>38.88</td>\n",
       "      <td>2282.25</td>\n",
       "      <td>58.25</td>\n",
       "      <td>1249.78</td>\n",
       "      <td>153.87</td>\n",
       "      <td>2686535758.08</td>\n",
       "      <td>2686535877.53</td>\n",
       "    </tr>\n",
       "    <tr>\n",
       "      <th>std</th>\n",
       "      <td>1083034.35</td>\n",
       "      <td>20.47</td>\n",
       "      <td>281438.15</td>\n",
       "      <td>16.05</td>\n",
       "      <td>717.96</td>\n",
       "      <td>34.46</td>\n",
       "      <td>1993.87</td>\n",
       "      <td>66.48</td>\n",
       "      <td>1067276436.76</td>\n",
       "      <td>1067276337.55</td>\n",
       "    </tr>\n",
       "    <tr>\n",
       "      <th>min</th>\n",
       "      <td>1000008.00</td>\n",
       "      <td>1.00</td>\n",
       "      <td>5.00</td>\n",
       "      <td>3.40</td>\n",
       "      <td>1004.00</td>\n",
       "      <td>0.00</td>\n",
       "      <td>65.43</td>\n",
       "      <td>32.37</td>\n",
       "      <td>1000070027.00</td>\n",
       "      <td>1000070027.00</td>\n",
       "    </tr>\n",
       "    <tr>\n",
       "      <th>25%</th>\n",
       "      <td>2043397.75</td>\n",
       "      <td>1885.00</td>\n",
       "      <td>227658.75</td>\n",
       "      <td>30.45</td>\n",
       "      <td>2100.00</td>\n",
       "      <td>31.00</td>\n",
       "      <td>811.32</td>\n",
       "      <td>125.70</td>\n",
       "      <td>2038480018.00</td>\n",
       "      <td>2038480018.00</td>\n",
       "    </tr>\n",
       "    <tr>\n",
       "      <th>50%</th>\n",
       "      <td>3035314.50</td>\n",
       "      <td>1899.00</td>\n",
       "      <td>449570.50</td>\n",
       "      <td>37.32</td>\n",
       "      <td>2100.00</td>\n",
       "      <td>53.00</td>\n",
       "      <td>976.36</td>\n",
       "      <td>142.41</td>\n",
       "      <td>3012340066.50</td>\n",
       "      <td>3012340066.50</td>\n",
       "    </tr>\n",
       "    <tr>\n",
       "      <th>75%</th>\n",
       "      <td>3065016.25</td>\n",
       "      <td>1899.00</td>\n",
       "      <td>677121.00</td>\n",
       "      <td>44.49</td>\n",
       "      <td>2100.00</td>\n",
       "      <td>77.00</td>\n",
       "      <td>1235.27</td>\n",
       "      <td>167.57</td>\n",
       "      <td>3022260049.25</td>\n",
       "      <td>3022260051.50</td>\n",
       "    </tr>\n",
       "    <tr>\n",
       "      <th>max</th>\n",
       "      <td>5169977.00</td>\n",
       "      <td>1899.00</td>\n",
       "      <td>1293541.00</td>\n",
       "      <td>473.97</td>\n",
       "      <td>5110.00</td>\n",
       "      <td>340.00</td>\n",
       "      <td>136276.37</td>\n",
       "      <td>2533.97</td>\n",
       "      <td>5080460087.00</td>\n",
       "      <td>5080460087.00</td>\n",
       "    </tr>\n",
       "  </tbody>\n",
       "</table>\n",
       "</div>"
      ],
      "text/plain": [
       "             BIN  CNSTRCT_YR   DOITT_ID  HEIGHTROOF  FEAT_CODE  GROUNDELEV  \\\n",
       "count   42704.00    42704.00   42704.00    42698.00   42704.00    42703.00   \n",
       "mean  2730942.22     1888.16  461704.84       38.88    2282.25       58.25   \n",
       "std   1083034.35       20.47  281438.15       16.05     717.96       34.46   \n",
       "min   1000008.00        1.00       5.00        3.40    1004.00        0.00   \n",
       "25%   2043397.75     1885.00  227658.75       30.45    2100.00       31.00   \n",
       "50%   3035314.50     1899.00  449570.50       37.32    2100.00       53.00   \n",
       "75%   3065016.25     1899.00  677121.00       44.49    2100.00       77.00   \n",
       "max   5169977.00     1899.00 1293541.00      473.97    5110.00      340.00   \n",
       "\n",
       "       SHAPE_AREA  SHAPE_LEN      BASE_BBL    MPLUTO_BBL  \n",
       "count    42704.00   42704.00      42704.00      42704.00  \n",
       "mean      1249.78     153.87 2686535758.08 2686535877.53  \n",
       "std       1993.87      66.48 1067276436.76 1067276337.55  \n",
       "min         65.43      32.37 1000070027.00 1000070027.00  \n",
       "25%        811.32     125.70 2038480018.00 2038480018.00  \n",
       "50%        976.36     142.41 3012340066.50 3012340066.50  \n",
       "75%       1235.27     167.57 3022260049.25 3022260051.50  \n",
       "max     136276.37    2533.97 5080460087.00 5080460087.00  "
      ]
     },
     "execution_count": 30,
     "metadata": {},
     "output_type": "execute_result"
    }
   ],
   "source": [
    "building_footprints_csv.loc[building_footprints_csv[\"CNSTRCT_YR\"] < 1900].describe()"
   ]
  },
  {
   "cell_type": "code",
   "execution_count": 31,
   "id": "marine-wildlife",
   "metadata": {},
   "outputs": [
    {
     "data": {
      "text/html": [
       "<div>\n",
       "<style scoped>\n",
       "    .dataframe tbody tr th:only-of-type {\n",
       "        vertical-align: middle;\n",
       "    }\n",
       "\n",
       "    .dataframe tbody tr th {\n",
       "        vertical-align: top;\n",
       "    }\n",
       "\n",
       "    .dataframe thead th {\n",
       "        text-align: right;\n",
       "    }\n",
       "</style>\n",
       "<table border=\"1\" class=\"dataframe\">\n",
       "  <thead>\n",
       "    <tr style=\"text-align: right;\">\n",
       "      <th></th>\n",
       "      <th>BIN</th>\n",
       "      <th>CNSTRCT_YR</th>\n",
       "      <th>NAME</th>\n",
       "      <th>the_geom</th>\n",
       "      <th>LSTMODDATE</th>\n",
       "      <th>LSTSTATYPE</th>\n",
       "      <th>DOITT_ID</th>\n",
       "      <th>HEIGHTROOF</th>\n",
       "      <th>FEAT_CODE</th>\n",
       "      <th>GROUNDELEV</th>\n",
       "      <th>SHAPE_AREA</th>\n",
       "      <th>SHAPE_LEN</th>\n",
       "      <th>BASE_BBL</th>\n",
       "      <th>MPLUTO_BBL</th>\n",
       "      <th>GEOMSOURCE</th>\n",
       "    </tr>\n",
       "  </thead>\n",
       "  <tbody>\n",
       "    <tr>\n",
       "      <th>18</th>\n",
       "      <td>5065718</td>\n",
       "      <td>1899.00</td>\n",
       "      <td>NaN</td>\n",
       "      <td>MULTIPOLYGON (((-74.14983332006722 40.55011975...</td>\n",
       "      <td>08/22/2017 12:00:00 AM +0000</td>\n",
       "      <td>Constructed</td>\n",
       "      <td>290792</td>\n",
       "      <td>28.68</td>\n",
       "      <td>2100.00</td>\n",
       "      <td>73.00</td>\n",
       "      <td>1588.78</td>\n",
       "      <td>184.78</td>\n",
       "      <td>5051430040.00</td>\n",
       "      <td>5051430040.00</td>\n",
       "      <td>Photogramm</td>\n",
       "    </tr>\n",
       "    <tr>\n",
       "      <th>68</th>\n",
       "      <td>3417314</td>\n",
       "      <td>1899.00</td>\n",
       "      <td>NaN</td>\n",
       "      <td>MULTIPOLYGON (((-73.96239465160933 40.64332930...</td>\n",
       "      <td>08/17/2017 12:00:00 AM +0000</td>\n",
       "      <td>Constructed</td>\n",
       "      <td>1191341</td>\n",
       "      <td>13.46</td>\n",
       "      <td>5110.00</td>\n",
       "      <td>34.00</td>\n",
       "      <td>400.92</td>\n",
       "      <td>80.20</td>\n",
       "      <td>3051480051.00</td>\n",
       "      <td>3051480051.00</td>\n",
       "      <td>Photogramm</td>\n",
       "    </tr>\n",
       "    <tr>\n",
       "      <th>111</th>\n",
       "      <td>3321949</td>\n",
       "      <td>1899.00</td>\n",
       "      <td>NaN</td>\n",
       "      <td>MULTIPOLYGON (((-73.96377343893835 40.68434962...</td>\n",
       "      <td>08/17/2017 12:00:00 AM +0000</td>\n",
       "      <td>Constructed</td>\n",
       "      <td>78119</td>\n",
       "      <td>10.27</td>\n",
       "      <td>5110.00</td>\n",
       "      <td>70.00</td>\n",
       "      <td>357.47</td>\n",
       "      <td>76.02</td>\n",
       "      <td>3019800026.00</td>\n",
       "      <td>3019800026.00</td>\n",
       "      <td>Photogramm</td>\n",
       "    </tr>\n",
       "    <tr>\n",
       "      <th>134</th>\n",
       "      <td>1045196</td>\n",
       "      <td>1899.00</td>\n",
       "      <td>NaN</td>\n",
       "      <td>MULTIPOLYGON (((-73.95541518712452 40.77167243...</td>\n",
       "      <td>08/22/2017 12:00:00 AM +0000</td>\n",
       "      <td>Constructed</td>\n",
       "      <td>562430</td>\n",
       "      <td>50.12</td>\n",
       "      <td>2100.00</td>\n",
       "      <td>39.00</td>\n",
       "      <td>1065.36</td>\n",
       "      <td>152.64</td>\n",
       "      <td>1014510146.00</td>\n",
       "      <td>1014510146.00</td>\n",
       "      <td>Photogramm</td>\n",
       "    </tr>\n",
       "    <tr>\n",
       "      <th>158</th>\n",
       "      <td>3062926</td>\n",
       "      <td>1899.00</td>\n",
       "      <td>NaN</td>\n",
       "      <td>MULTIPOLYGON (((-73.9630909105247 40.714212277...</td>\n",
       "      <td>08/22/2017 12:00:00 AM +0000</td>\n",
       "      <td>Constructed</td>\n",
       "      <td>663480</td>\n",
       "      <td>35.57</td>\n",
       "      <td>2100.00</td>\n",
       "      <td>50.00</td>\n",
       "      <td>784.78</td>\n",
       "      <td>116.16</td>\n",
       "      <td>3024050006.00</td>\n",
       "      <td>3024050006.00</td>\n",
       "      <td>Photogramm</td>\n",
       "    </tr>\n",
       "  </tbody>\n",
       "</table>\n",
       "</div>"
      ],
      "text/plain": [
       "         BIN  CNSTRCT_YR NAME  \\\n",
       "18   5065718     1899.00  NaN   \n",
       "68   3417314     1899.00  NaN   \n",
       "111  3321949     1899.00  NaN   \n",
       "134  1045196     1899.00  NaN   \n",
       "158  3062926     1899.00  NaN   \n",
       "\n",
       "                                              the_geom  \\\n",
       "18   MULTIPOLYGON (((-74.14983332006722 40.55011975...   \n",
       "68   MULTIPOLYGON (((-73.96239465160933 40.64332930...   \n",
       "111  MULTIPOLYGON (((-73.96377343893835 40.68434962...   \n",
       "134  MULTIPOLYGON (((-73.95541518712452 40.77167243...   \n",
       "158  MULTIPOLYGON (((-73.9630909105247 40.714212277...   \n",
       "\n",
       "                       LSTMODDATE   LSTSTATYPE  DOITT_ID  HEIGHTROOF  \\\n",
       "18   08/22/2017 12:00:00 AM +0000  Constructed    290792       28.68   \n",
       "68   08/17/2017 12:00:00 AM +0000  Constructed   1191341       13.46   \n",
       "111  08/17/2017 12:00:00 AM +0000  Constructed     78119       10.27   \n",
       "134  08/22/2017 12:00:00 AM +0000  Constructed    562430       50.12   \n",
       "158  08/22/2017 12:00:00 AM +0000  Constructed    663480       35.57   \n",
       "\n",
       "     FEAT_CODE  GROUNDELEV  SHAPE_AREA  SHAPE_LEN      BASE_BBL    MPLUTO_BBL  \\\n",
       "18     2100.00       73.00     1588.78     184.78 5051430040.00 5051430040.00   \n",
       "68     5110.00       34.00      400.92      80.20 3051480051.00 3051480051.00   \n",
       "111    5110.00       70.00      357.47      76.02 3019800026.00 3019800026.00   \n",
       "134    2100.00       39.00     1065.36     152.64 1014510146.00 1014510146.00   \n",
       "158    2100.00       50.00      784.78     116.16 3024050006.00 3024050006.00   \n",
       "\n",
       "     GEOMSOURCE  \n",
       "18   Photogramm  \n",
       "68   Photogramm  \n",
       "111  Photogramm  \n",
       "134  Photogramm  \n",
       "158  Photogramm  "
      ]
     },
     "execution_count": 31,
     "metadata": {},
     "output_type": "execute_result"
    }
   ],
   "source": [
    "bldgs_before_1990 = building_footprints_csv.loc[building_footprints_csv[\"CNSTRCT_YR\"].between(1500, 1899)]\n",
    "\n",
    "bldgs_before_1990.head()"
   ]
  },
  {
   "cell_type": "code",
   "execution_count": 32,
   "id": "anticipated-contributor",
   "metadata": {},
   "outputs": [
    {
     "data": {
      "text/plain": [
       "(42703, 15)"
      ]
     },
     "execution_count": 32,
     "metadata": {},
     "output_type": "execute_result"
    }
   ],
   "source": [
    "bldgs_before_1990.shape"
   ]
  },
  {
   "cell_type": "code",
   "execution_count": 33,
   "id": "loved-allowance",
   "metadata": {},
   "outputs": [
    {
     "data": {
      "text/plain": [
       "count   42703.00\n",
       "mean     1888.20\n",
       "std        18.32\n",
       "min      1652.00\n",
       "25%      1885.00\n",
       "50%      1899.00\n",
       "75%      1899.00\n",
       "max      1899.00\n",
       "Name: CNSTRCT_YR, dtype: float64"
      ]
     },
     "execution_count": 33,
     "metadata": {},
     "output_type": "execute_result"
    }
   ],
   "source": [
    "bldgs_before_1990['CNSTRCT_YR'].describe()"
   ]
  },
  {
   "cell_type": "code",
   "execution_count": 34,
   "id": "reverse-indonesia",
   "metadata": {},
   "outputs": [
    {
     "data": {
      "text/plain": [
       "1899.00    23276\n",
       "1890.00     1151\n",
       "1889.00      803\n",
       "1891.00      722\n",
       "1892.00      716\n",
       "           ...  \n",
       "1803.00        1\n",
       "1694.00        1\n",
       "1765.00        1\n",
       "1809.00        1\n",
       "1789.00        1\n",
       "Name: CNSTRCT_YR, Length: 127, dtype: int64"
      ]
     },
     "execution_count": 34,
     "metadata": {},
     "output_type": "execute_result"
    }
   ],
   "source": [
    "bldgs_before_1990['CNSTRCT_YR'].value_counts()"
   ]
  },
  {
   "cell_type": "code",
   "execution_count": 35,
   "id": "stainless-healing",
   "metadata": {},
   "outputs": [
    {
     "data": {
      "text/plain": [
       "<AxesSubplot:>"
      ]
     },
     "execution_count": 35,
     "metadata": {},
     "output_type": "execute_result"
    },
    {
     "data": {
      "image/png": "[encoded data removed]",
      "text/plain": [
       "<Figure size 432x288 with 1 Axes>"
      ]
     },
     "metadata": {
      "needs_background": "light"
     },
     "output_type": "display_data"
    }
   ],
   "source": [
    "bldgs_before_1990['CNSTRCT_YR'].hist()"
   ]
  },
  {
   "cell_type": "code",
   "execution_count": 36,
   "id": "hired-despite",
   "metadata": {},
   "outputs": [
    {
     "data": {
      "text/plain": [
       "<AxesSubplot:>"
      ]
     },
     "execution_count": 36,
     "metadata": {},
     "output_type": "execute_result"
    },
    {
     "data": {
      "image/png": "[encoded data removed]",
      "text/plain": [
       "<Figure size 432x288 with 1 Axes>"
      ]
     },
     "metadata": {
      "needs_background": "light"
     },
     "output_type": "display_data"
    }
   ],
   "source": [
    "bldgs_before_1990['CNSTRCT_YR'].plot.box()"
   ]
  },
  {
   "cell_type": "code",
   "execution_count": 37,
   "id": "alert-encoding",
   "metadata": {},
   "outputs": [
    {
     "data": {
      "text/plain": [
       "0"
      ]
     },
     "execution_count": 37,
     "metadata": {},
     "output_type": "execute_result"
    }
   ],
   "source": [
    "bldgs_before_1990['CNSTRCT_YR'].isna().sum()"
   ]
  },
  {
   "cell_type": "code",
   "execution_count": 38,
   "id": "dental-collapse",
   "metadata": {},
   "outputs": [
    {
     "name": "stdout",
     "output_type": "stream",
     "text": [
      "README.md                      examples.ipynb\r\n",
      "bldgs_before_1990.csv          mybinder-data-wrangling.ipynb\r\n"
     ]
    }
   ],
   "source": [
    "%ls"
   ]
  },
  {
   "cell_type": "code",
   "execution_count": 39,
   "id": "active-piano",
   "metadata": {},
   "outputs": [],
   "source": [
    "bldgs_before_1990.to_csv('bldgs_before_1900.csv', index=False)"
   ]
  },
  {
   "cell_type": "code",
   "execution_count": 40,
   "id": "unable-typing",
   "metadata": {},
   "outputs": [
    {
     "name": "stdout",
     "output_type": "stream",
     "text": [
      "README.md                      examples.ipynb\r\n",
      "bldgs_before_1900.csv          mybinder-data-wrangling.ipynb\r\n",
      "bldgs_before_1990.csv\r\n"
     ]
    }
   ],
   "source": [
    "%ls"
   ]
  },
  {
   "cell_type": "code",
   "execution_count": 41,
   "id": "thick-university",
   "metadata": {},
   "outputs": [
    {
     "name": "stdout",
     "output_type": "stream",
     "text": [
      "(42703, 15)\n"
     ]
    },
    {
     "data": {
      "text/html": [
       "<div>\n",
       "<style scoped>\n",
       "    .dataframe tbody tr th:only-of-type {\n",
       "        vertical-align: middle;\n",
       "    }\n",
       "\n",
       "    .dataframe tbody tr th {\n",
       "        vertical-align: top;\n",
       "    }\n",
       "\n",
       "    .dataframe thead th {\n",
       "        text-align: right;\n",
       "    }\n",
       "</style>\n",
       "<table border=\"1\" class=\"dataframe\">\n",
       "  <thead>\n",
       "    <tr style=\"text-align: right;\">\n",
       "      <th></th>\n",
       "      <th>BIN</th>\n",
       "      <th>CNSTRCT_YR</th>\n",
       "      <th>NAME</th>\n",
       "      <th>the_geom</th>\n",
       "      <th>LSTMODDATE</th>\n",
       "      <th>LSTSTATYPE</th>\n",
       "      <th>DOITT_ID</th>\n",
       "      <th>HEIGHTROOF</th>\n",
       "      <th>FEAT_CODE</th>\n",
       "      <th>GROUNDELEV</th>\n",
       "      <th>SHAPE_AREA</th>\n",
       "      <th>SHAPE_LEN</th>\n",
       "      <th>BASE_BBL</th>\n",
       "      <th>MPLUTO_BBL</th>\n",
       "      <th>GEOMSOURCE</th>\n",
       "    </tr>\n",
       "  </thead>\n",
       "  <tbody>\n",
       "    <tr>\n",
       "      <th>0</th>\n",
       "      <td>5065718</td>\n",
       "      <td>1899.00</td>\n",
       "      <td>NaN</td>\n",
       "      <td>MULTIPOLYGON (((-74.14983332006722 40.55011975...</td>\n",
       "      <td>08/22/2017 12:00:00 AM +0000</td>\n",
       "      <td>Constructed</td>\n",
       "      <td>290792</td>\n",
       "      <td>28.68</td>\n",
       "      <td>2100.00</td>\n",
       "      <td>73.00</td>\n",
       "      <td>1588.78</td>\n",
       "      <td>184.78</td>\n",
       "      <td>5051430040.00</td>\n",
       "      <td>5051430040.00</td>\n",
       "      <td>Photogramm</td>\n",
       "    </tr>\n",
       "    <tr>\n",
       "      <th>1</th>\n",
       "      <td>3417314</td>\n",
       "      <td>1899.00</td>\n",
       "      <td>NaN</td>\n",
       "      <td>MULTIPOLYGON (((-73.96239465160933 40.64332930...</td>\n",
       "      <td>08/17/2017 12:00:00 AM +0000</td>\n",
       "      <td>Constructed</td>\n",
       "      <td>1191341</td>\n",
       "      <td>13.46</td>\n",
       "      <td>5110.00</td>\n",
       "      <td>34.00</td>\n",
       "      <td>400.92</td>\n",
       "      <td>80.20</td>\n",
       "      <td>3051480051.00</td>\n",
       "      <td>3051480051.00</td>\n",
       "      <td>Photogramm</td>\n",
       "    </tr>\n",
       "    <tr>\n",
       "      <th>2</th>\n",
       "      <td>3321949</td>\n",
       "      <td>1899.00</td>\n",
       "      <td>NaN</td>\n",
       "      <td>MULTIPOLYGON (((-73.96377343893835 40.68434962...</td>\n",
       "      <td>08/17/2017 12:00:00 AM +0000</td>\n",
       "      <td>Constructed</td>\n",
       "      <td>78119</td>\n",
       "      <td>10.27</td>\n",
       "      <td>5110.00</td>\n",
       "      <td>70.00</td>\n",
       "      <td>357.47</td>\n",
       "      <td>76.02</td>\n",
       "      <td>3019800026.00</td>\n",
       "      <td>3019800026.00</td>\n",
       "      <td>Photogramm</td>\n",
       "    </tr>\n",
       "    <tr>\n",
       "      <th>3</th>\n",
       "      <td>1045196</td>\n",
       "      <td>1899.00</td>\n",
       "      <td>NaN</td>\n",
       "      <td>MULTIPOLYGON (((-73.95541518712452 40.77167243...</td>\n",
       "      <td>08/22/2017 12:00:00 AM +0000</td>\n",
       "      <td>Constructed</td>\n",
       "      <td>562430</td>\n",
       "      <td>50.12</td>\n",
       "      <td>2100.00</td>\n",
       "      <td>39.00</td>\n",
       "      <td>1065.36</td>\n",
       "      <td>152.64</td>\n",
       "      <td>1014510146.00</td>\n",
       "      <td>1014510146.00</td>\n",
       "      <td>Photogramm</td>\n",
       "    </tr>\n",
       "    <tr>\n",
       "      <th>4</th>\n",
       "      <td>3062926</td>\n",
       "      <td>1899.00</td>\n",
       "      <td>NaN</td>\n",
       "      <td>MULTIPOLYGON (((-73.9630909105247 40.714212277...</td>\n",
       "      <td>08/22/2017 12:00:00 AM +0000</td>\n",
       "      <td>Constructed</td>\n",
       "      <td>663480</td>\n",
       "      <td>35.57</td>\n",
       "      <td>2100.00</td>\n",
       "      <td>50.00</td>\n",
       "      <td>784.78</td>\n",
       "      <td>116.16</td>\n",
       "      <td>3024050006.00</td>\n",
       "      <td>3024050006.00</td>\n",
       "      <td>Photogramm</td>\n",
       "    </tr>\n",
       "  </tbody>\n",
       "</table>\n",
       "</div>"
      ],
      "text/plain": [
       "       BIN  CNSTRCT_YR NAME  \\\n",
       "0  5065718     1899.00  NaN   \n",
       "1  3417314     1899.00  NaN   \n",
       "2  3321949     1899.00  NaN   \n",
       "3  1045196     1899.00  NaN   \n",
       "4  3062926     1899.00  NaN   \n",
       "\n",
       "                                            the_geom  \\\n",
       "0  MULTIPOLYGON (((-74.14983332006722 40.55011975...   \n",
       "1  MULTIPOLYGON (((-73.96239465160933 40.64332930...   \n",
       "2  MULTIPOLYGON (((-73.96377343893835 40.68434962...   \n",
       "3  MULTIPOLYGON (((-73.95541518712452 40.77167243...   \n",
       "4  MULTIPOLYGON (((-73.9630909105247 40.714212277...   \n",
       "\n",
       "                     LSTMODDATE   LSTSTATYPE  DOITT_ID  HEIGHTROOF  FEAT_CODE  \\\n",
       "0  08/22/2017 12:00:00 AM +0000  Constructed    290792       28.68    2100.00   \n",
       "1  08/17/2017 12:00:00 AM +0000  Constructed   1191341       13.46    5110.00   \n",
       "2  08/17/2017 12:00:00 AM +0000  Constructed     78119       10.27    5110.00   \n",
       "3  08/22/2017 12:00:00 AM +0000  Constructed    562430       50.12    2100.00   \n",
       "4  08/22/2017 12:00:00 AM +0000  Constructed    663480       35.57    2100.00   \n",
       "\n",
       "   GROUNDELEV  SHAPE_AREA  SHAPE_LEN      BASE_BBL    MPLUTO_BBL  GEOMSOURCE  \n",
       "0       73.00     1588.78     184.78 5051430040.00 5051430040.00  Photogramm  \n",
       "1       34.00      400.92      80.20 3051480051.00 3051480051.00  Photogramm  \n",
       "2       70.00      357.47      76.02 3019800026.00 3019800026.00  Photogramm  \n",
       "3       39.00     1065.36     152.64 1014510146.00 1014510146.00  Photogramm  \n",
       "4       50.00      784.78     116.16 3024050006.00 3024050006.00  Photogramm  "
      ]
     },
     "execution_count": 41,
     "metadata": {},
     "output_type": "execute_result"
    }
   ],
   "source": [
    "df = pd.read_csv('bldgs_before_1900.csv')\n",
    "\n",
    "print(df.shape)\n",
    "\n",
    "df.head()"
   ]
  },
  {
   "cell_type": "code",
   "execution_count": 42,
   "id": "decimal-confirmation",
   "metadata": {},
   "outputs": [
    {
     "data": {
      "text/plain": [
       "count   42703.00\n",
       "mean     1888.20\n",
       "std        18.32\n",
       "min      1652.00\n",
       "25%      1885.00\n",
       "50%      1899.00\n",
       "75%      1899.00\n",
       "max      1899.00\n",
       "Name: CNSTRCT_YR, dtype: float64"
      ]
     },
     "execution_count": 42,
     "metadata": {},
     "output_type": "execute_result"
    }
   ],
   "source": [
    "df.CNSTRCT_YR.describe()"
   ]
  },
  {
   "cell_type": "code",
   "execution_count": null,
   "id": "brown-growing",
   "metadata": {},
   "outputs": [],
   "source": []
  }
 ],
 "metadata": {
  "kernelspec": {
   "display_name": "Python 3",
   "language": "python",
   "name": "python3"
  },
  "language_info": {
   "codemirror_mode": {
    "name": "ipython",
    "version": 3
   },
   "file_extension": ".py",
   "mimetype": "text/x-python",
   "name": "python",
   "nbconvert_exporter": "python",
   "pygments_lexer": "ipython3",
   "version": "3.7.1"
  }
 },
 "nbformat": 4,
 "nbformat_minor": 5
}
